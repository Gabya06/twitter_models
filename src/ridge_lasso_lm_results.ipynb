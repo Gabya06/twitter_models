{
 "cells": [
  {
   "cell_type": "code",
   "execution_count": 10,
   "metadata": {
    "collapsed": false
   },
   "outputs": [],
   "source": [
    "%matplotlib inline\n",
    "\n",
    "import numpy as np\n",
    "import pandas as pd\n",
    "import os\n",
    "import sys\n",
    "\n",
    "from datetime import datetime\n",
    "import matplotlib.pyplot as pyplot\n",
    "from sklearn import linear_model, metrics\n",
    "from sklearn.metrics import mean_squared_error\n",
    "from sklearn.metrics import r2_score\n",
    "from sklearn.linear_model import Ridge\n",
    "from sklearn import cross_validation\n",
    "from sklearn.cross_validation import cross_val_predict\n",
    "from sklearn import ensemble\n",
    "from sklearn.utils import shuffle\n",
    "\n",
    "from sklearn.pipeline import make_pipeline\n",
    "from sklearn.preprocessing import PolynomialFeatures"
   ]
  },
  {
   "cell_type": "code",
   "execution_count": 11,
   "metadata": {
    "collapsed": false
   },
   "outputs": [],
   "source": [
    "data_path = \"/Users/Gabi/dev/Shareablee/twitter/data/\"\n",
    "user_data_path = os.path.join(data_path, 'tw_account_info')\n",
    "project_path =  '/Users/Gabi/dev/Shareablee/twitter/'\n",
    "\n",
    "os.chdir(project_path)"
   ]
  },
  {
   "cell_type": "code",
   "execution_count": 12,
   "metadata": {
    "collapsed": true
   },
   "outputs": [],
   "source": [
    "# set up column names and types to read twitter data\n",
    "pd_read_names = ['index','time', 'impressions', 'retweets', 'page_id', 'twitter_id', 'followers']\n",
    "pd_read_dtype = [np.str, np.str, np.int, np.int, np.str, np.int, np.int]\n",
    "\n",
    "pd_read_names_user = ['user_id','tw_id', 'tw_name', 'cat_id', 'cat_name']\n",
    "pd_read_dtype_user = [np.str, np.str, np.str, np.str, np.str]\n",
    "\n",
    "pd_kwargs = {\n",
    "    'header': 0,\n",
    "    'sep': ',',\n",
    "    'escapechar': '\\\\',\n",
    "    'names': pd_read_names,\n",
    "    'dtype': dict(zip(pd_read_names, pd_read_dtype)),\n",
    "    'usecols': ['time', 'impressions', 'retweets', 'page_id', 'followers'],\n",
    "    'parse_dates' : [0]\n",
    "}\n",
    "\n",
    "pd_user_kwargs = {\n",
    "    'header': 0,\n",
    "    'sep': ',',\n",
    "    'escapechar': '\\\\',\n",
    "    'names': pd_read_names_user,\n",
    "    'dtype': dict(zip(pd_read_names_user, pd_read_dtype_user))\n",
    "    }"
   ]
  },
  {
   "cell_type": "code",
   "execution_count": 13,
   "metadata": {
    "collapsed": true
   },
   "outputs": [],
   "source": [
    "def load_tw_data(**kwargs):\n",
    "    '''\n",
    "    Function to read twitter data \n",
    "    Input:\n",
    "        Arguments for reading Twitter data (Twitter Data - JAN 2016)\n",
    "    Output:\n",
    "        Dataframe\n",
    "    '''\n",
    "    twitter_data = pd.read_table(twitter_data_path, **pd_kwargs)\n",
    "    return twitter_data\n",
    "\n",
    "def load_user_data(**kwargs):\n",
    "    '''\n",
    "    Input:\n",
    "        Arguments for reading Twitter User Account Info\n",
    "    Output:\n",
    "        Dataframe\n",
    "    '''\n",
    "    user_data = pd.read_table(user_data_path, **pd_user_kwargs)\n",
    "    return user_data"
   ]
  },
  {
   "cell_type": "code",
   "execution_count": 35,
   "metadata": {
    "collapsed": true
   },
   "outputs": [],
   "source": [
    "# load twitter data\n",
    "twitter_data = load_tw_data()\n",
    "user_data = load_user_data()"
   ]
  },
  {
   "cell_type": "code",
   "execution_count": 36,
   "metadata": {
    "collapsed": false
   },
   "outputs": [
    {
     "data": {
      "text/html": [
       "<div>\n",
       "<style>\n",
       "    .dataframe thead tr:only-child th {\n",
       "        text-align: right;\n",
       "    }\n",
       "\n",
       "    .dataframe thead th {\n",
       "        text-align: left;\n",
       "    }\n",
       "\n",
       "    .dataframe tbody tr th {\n",
       "        vertical-align: top;\n",
       "    }\n",
       "</style>\n",
       "<table border=\"1\" class=\"dataframe\">\n",
       "  <thead>\n",
       "    <tr style=\"text-align: right;\">\n",
       "      <th></th>\n",
       "      <th>time</th>\n",
       "      <th>impressions</th>\n",
       "      <th>retweets</th>\n",
       "      <th>page_id</th>\n",
       "      <th>followers</th>\n",
       "    </tr>\n",
       "  </thead>\n",
       "  <tbody>\n",
       "    <tr>\n",
       "      <th>0</th>\n",
       "      <td>2015-10-14 17:00:00</td>\n",
       "      <td>900</td>\n",
       "      <td>2</td>\n",
       "      <td>119606058</td>\n",
       "      <td>119261</td>\n",
       "    </tr>\n",
       "    <tr>\n",
       "      <th>1</th>\n",
       "      <td>2015-10-14 16:03:00</td>\n",
       "      <td>771</td>\n",
       "      <td>4</td>\n",
       "      <td>119606058</td>\n",
       "      <td>119261</td>\n",
       "    </tr>\n",
       "    <tr>\n",
       "      <th>2</th>\n",
       "      <td>2015-10-14 15:39:00</td>\n",
       "      <td>741</td>\n",
       "      <td>1</td>\n",
       "      <td>119606058</td>\n",
       "      <td>119261</td>\n",
       "    </tr>\n",
       "    <tr>\n",
       "      <th>3</th>\n",
       "      <td>2015-10-14 15:31:00</td>\n",
       "      <td>870</td>\n",
       "      <td>3</td>\n",
       "      <td>119606058</td>\n",
       "      <td>119261</td>\n",
       "    </tr>\n",
       "    <tr>\n",
       "      <th>4</th>\n",
       "      <td>2015-10-14 15:02:00</td>\n",
       "      <td>673</td>\n",
       "      <td>1</td>\n",
       "      <td>119606058</td>\n",
       "      <td>119261</td>\n",
       "    </tr>\n",
       "  </tbody>\n",
       "</table>\n",
       "</div>"
      ],
      "text/plain": [
       "                 time  impressions  retweets    page_id  followers\n",
       "0 2015-10-14 17:00:00          900         2  119606058     119261\n",
       "1 2015-10-14 16:03:00          771         4  119606058     119261\n",
       "2 2015-10-14 15:39:00          741         1  119606058     119261\n",
       "3 2015-10-14 15:31:00          870         3  119606058     119261\n",
       "4 2015-10-14 15:02:00          673         1  119606058     119261"
      ]
     },
     "execution_count": 36,
     "metadata": {},
     "output_type": "execute_result"
    }
   ],
   "source": [
    "twitter_data.head()"
   ]
  },
  {
   "cell_type": "code",
   "execution_count": 38,
   "metadata": {
    "collapsed": false
   },
   "outputs": [
    {
     "data": {
      "text/html": [
       "<div>\n",
       "<style>\n",
       "    .dataframe thead tr:only-child th {\n",
       "        text-align: right;\n",
       "    }\n",
       "\n",
       "    .dataframe thead th {\n",
       "        text-align: left;\n",
       "    }\n",
       "\n",
       "    .dataframe tbody tr th {\n",
       "        vertical-align: top;\n",
       "    }\n",
       "</style>\n",
       "<table border=\"1\" class=\"dataframe\">\n",
       "  <thead>\n",
       "    <tr style=\"text-align: right;\">\n",
       "      <th></th>\n",
       "      <th>user_id</th>\n",
       "      <th>tw_id</th>\n",
       "      <th>tw_name</th>\n",
       "      <th>cat_id</th>\n",
       "      <th>cat_name</th>\n",
       "    </tr>\n",
       "  </thead>\n",
       "  <tbody>\n",
       "    <tr>\n",
       "      <th>0</th>\n",
       "      <td>30309979</td>\n",
       "      <td>16376</td>\n",
       "      <td>106andpark</td>\n",
       "      <td>3698</td>\n",
       "      <td>BET - Roll-Up - Custom</td>\n",
       "    </tr>\n",
       "    <tr>\n",
       "      <th>1</th>\n",
       "      <td>30309979</td>\n",
       "      <td>16376</td>\n",
       "      <td>106andpark</td>\n",
       "      <td>3955</td>\n",
       "      <td>Global* Media &amp; Entertainment</td>\n",
       "    </tr>\n",
       "    <tr>\n",
       "      <th>2</th>\n",
       "      <td>30309979</td>\n",
       "      <td>16376</td>\n",
       "      <td>106andpark</td>\n",
       "      <td>1621</td>\n",
       "      <td>KCRETIRED USA - TV - Cable (9/15/14 - 9/21/14)</td>\n",
       "    </tr>\n",
       "    <tr>\n",
       "      <th>3</th>\n",
       "      <td>30309979</td>\n",
       "      <td>16376</td>\n",
       "      <td>106andpark</td>\n",
       "      <td>1409</td>\n",
       "      <td>KCRETIRED USA - TV - In Production</td>\n",
       "    </tr>\n",
       "    <tr>\n",
       "      <th>4</th>\n",
       "      <td>30309979</td>\n",
       "      <td>16376</td>\n",
       "      <td>106andpark</td>\n",
       "      <td>1477</td>\n",
       "      <td>KCRETIRED USA - TV - Scripted</td>\n",
       "    </tr>\n",
       "  </tbody>\n",
       "</table>\n",
       "</div>"
      ],
      "text/plain": [
       "    user_id  tw_id     tw_name cat_id  \\\n",
       "0  30309979  16376  106andpark   3698   \n",
       "1  30309979  16376  106andpark   3955   \n",
       "2  30309979  16376  106andpark   1621   \n",
       "3  30309979  16376  106andpark   1409   \n",
       "4  30309979  16376  106andpark   1477   \n",
       "\n",
       "                                         cat_name  \n",
       "0                          BET - Roll-Up - Custom  \n",
       "1                   Global* Media & Entertainment  \n",
       "2  KCRETIRED USA - TV - Cable (9/15/14 - 9/21/14)  \n",
       "3              KCRETIRED USA - TV - In Production  \n",
       "4                   KCRETIRED USA - TV - Scripted  "
      ]
     },
     "execution_count": 38,
     "metadata": {},
     "output_type": "execute_result"
    }
   ],
   "source": [
    "user_data.head()"
   ]
  },
  {
   "cell_type": "code",
   "execution_count": 39,
   "metadata": {
    "collapsed": false
   },
   "outputs": [
    {
     "data": {
      "text/html": [
       "<div>\n",
       "<style>\n",
       "    .dataframe thead tr:only-child th {\n",
       "        text-align: right;\n",
       "    }\n",
       "\n",
       "    .dataframe thead th {\n",
       "        text-align: left;\n",
       "    }\n",
       "\n",
       "    .dataframe tbody tr th {\n",
       "        vertical-align: top;\n",
       "    }\n",
       "</style>\n",
       "<table border=\"1\" class=\"dataframe\">\n",
       "  <thead>\n",
       "    <tr style=\"text-align: right;\">\n",
       "      <th></th>\n",
       "      <th>page_id</th>\n",
       "      <th>time</th>\n",
       "      <th>followers</th>\n",
       "      <th>retweets</th>\n",
       "      <th>impressions</th>\n",
       "    </tr>\n",
       "  </thead>\n",
       "  <tbody>\n",
       "    <tr>\n",
       "      <th>0</th>\n",
       "      <td>119606058</td>\n",
       "      <td>2015-10-14 17:00:00</td>\n",
       "      <td>119261</td>\n",
       "      <td>2</td>\n",
       "      <td>900</td>\n",
       "    </tr>\n",
       "    <tr>\n",
       "      <th>1</th>\n",
       "      <td>119606058</td>\n",
       "      <td>2015-10-14 16:03:00</td>\n",
       "      <td>119261</td>\n",
       "      <td>4</td>\n",
       "      <td>771</td>\n",
       "    </tr>\n",
       "    <tr>\n",
       "      <th>2</th>\n",
       "      <td>119606058</td>\n",
       "      <td>2015-10-14 15:39:00</td>\n",
       "      <td>119261</td>\n",
       "      <td>1</td>\n",
       "      <td>741</td>\n",
       "    </tr>\n",
       "    <tr>\n",
       "      <th>3</th>\n",
       "      <td>119606058</td>\n",
       "      <td>2015-10-14 15:31:00</td>\n",
       "      <td>119261</td>\n",
       "      <td>3</td>\n",
       "      <td>870</td>\n",
       "    </tr>\n",
       "    <tr>\n",
       "      <th>4</th>\n",
       "      <td>119606058</td>\n",
       "      <td>2015-10-14 15:02:00</td>\n",
       "      <td>119261</td>\n",
       "      <td>1</td>\n",
       "      <td>673</td>\n",
       "    </tr>\n",
       "  </tbody>\n",
       "</table>\n",
       "</div>"
      ],
      "text/plain": [
       "     page_id                time  followers  retweets  impressions\n",
       "0  119606058 2015-10-14 17:00:00     119261         2          900\n",
       "1  119606058 2015-10-14 16:03:00     119261         4          771\n",
       "2  119606058 2015-10-14 15:39:00     119261         1          741\n",
       "3  119606058 2015-10-14 15:31:00     119261         3          870\n",
       "4  119606058 2015-10-14 15:02:00     119261         1          673"
      ]
     },
     "execution_count": 39,
     "metadata": {},
     "output_type": "execute_result"
    }
   ],
   "source": [
    "# reorder columns\n",
    "twitter_data = twitter_data[[\"page_id\", \"time\" ,\"followers\",\"retweets\",\"impressions\"]]\n",
    "twitter_data.head()"
   ]
  },
  {
   "cell_type": "code",
   "execution_count": 18,
   "metadata": {
    "collapsed": false
   },
   "outputs": [
    {
     "data": {
      "image/png": "[encoded data removed]",
      "text/plain": [
       "<matplotlib.figure.Figure at 0x112dae510>"
      ]
     },
     "metadata": {},
     "output_type": "display_data"
    }
   ],
   "source": [
    "twitter_data[['followers','retweets','impressions',]].plot.line(subplots = True, title = '1st look at data')\n",
    "pyplot.show()"
   ]
  },
  {
   "cell_type": "code",
   "execution_count": 20,
   "metadata": {
    "collapsed": false
   },
   "outputs": [
    {
     "data": {
      "image/png": "[encoded data removed]",
      "text/plain": [
       "<matplotlib.figure.Figure at 0x112df8690>"
      ]
     },
     "metadata": {},
     "output_type": "display_data"
    }
   ],
   "source": [
    "# plot followers vs impressions\n",
    "twitter_data[['followers','impressions']].plot.scatter(x = 'followers', y = 'impressions', title = 'followers vs impressions')\n",
    "pyplot.show()\n"
   ]
  },
  {
   "cell_type": "code",
   "execution_count": 21,
   "metadata": {
    "collapsed": false
   },
   "outputs": [
    {
     "data": {
      "image/png": "[encoded data removed]",
      "text/plain": [
       "<matplotlib.figure.Figure at 0x112b11a10>"
      ]
     },
     "metadata": {},
     "output_type": "display_data"
    }
   ],
   "source": [
    "# plot retweets vs impressions\n",
    "twitter_data[['retweets','impressions']].plot.scatter(x = 'retweets', y = 'impressions', title = 'retweets vs impressions')\n",
    "pyplot.show()\n"
   ]
  },
  {
   "cell_type": "code",
   "execution_count": 24,
   "metadata": {
    "collapsed": false
   },
   "outputs": [
    {
     "name": "stdout",
     "output_type": "stream",
     "text": [
      "\n",
      "NUMBER OF OUTLIERS REMOVED:\n"
     ]
    },
    {
     "data": {
      "text/plain": [
       "1066159"
      ]
     },
     "execution_count": 24,
     "metadata": {},
     "output_type": "execute_result"
    }
   ],
   "source": [
    "print # filter out outlier impressions <10% and >90%\n",
    "\n",
    "retweets_removed = len(twitter_data[(twitter_data.retweets > twitter_data.retweets.quantile(.1)) & (twitter_data.retweets < twitter_data.retweets.quantile(.9))])\n",
    "impressions_removed = len(twitter_data[(twitter_data.impressions > twitter_data.impressions.quantile(.1)) & (twitter_data.impressions < twitter_data.impressions.quantile(.9))])\n",
    "print \"NUMBER OF OUTLIERS REMOVED:\"\n",
    "retweets_removed + impressions_removed"
   ]
  },
  {
   "cell_type": "code",
   "execution_count": 40,
   "metadata": {
    "collapsed": false
   },
   "outputs": [
    {
     "name": "stdout",
     "output_type": "stream",
     "text": [
      "       followers  retweets  impressions\n",
      "0.10    201755.0       7.0       8636.0\n",
      "0.25   1981815.0      14.0      20157.0\n",
      "0.50   3732958.0      30.0      55213.0\n",
      "0.75   9517109.0      63.0      99851.0\n",
      "0.95  12569256.0     138.0     161722.8\n"
     ]
    }
   ],
   "source": [
    "# remove outliers\n",
    "twitter_data = twitter_data[(twitter_data.retweets > twitter_data.retweets.quantile(.1)) & (twitter_data.retweets < twitter_data.retweets.quantile(.9))]\n",
    "twitter_data = twitter_data[(twitter_data.impressions > twitter_data.impressions.quantile(.1)) & (twitter_data.impressions < twitter_data.impressions.quantile(.9))]\n",
    "twitter_data.describe()\n",
    "print twitter_data.quantile([.1,.25,.5,.75,.95])"
   ]
  },
  {
   "cell_type": "code",
   "execution_count": 41,
   "metadata": {
    "collapsed": false
   },
   "outputs": [
    {
     "name": "stdout",
     "output_type": "stream",
     "text": [
      "Post cleaning correlations\n",
      "             retweets  followers  impressions\n",
      "retweets     1.000000   0.444137     0.554160\n",
      "followers    0.444137   1.000000     0.850945\n",
      "impressions  0.554160   0.850945     1.000000\n"
     ]
    }
   ],
   "source": [
    "# correlations: followers & impressions are more correlated\n",
    "print \"Post cleaning correlations\"\n",
    "print twitter_data[['retweets','followers','impressions']].corr()"
   ]
  },
  {
   "cell_type": "code",
   "execution_count": 27,
   "metadata": {
    "collapsed": false
   },
   "outputs": [
    {
     "data": {
      "image/png": "[encoded data removed]",
      "text/plain": [
       "<matplotlib.figure.Figure at 0x108d9ab50>"
      ]
     },
     "metadata": {},
     "output_type": "display_data"
    }
   ],
   "source": [
    "# quick look at data\n",
    "twitter_data[['followers','retweets','impressions',]].plot.line(subplots = True, title = \"Post cleaning plots\")\n",
    "pyplot.show()"
   ]
  },
  {
   "cell_type": "code",
   "execution_count": 43,
   "metadata": {
    "collapsed": false
   },
   "outputs": [],
   "source": [
    "# num of rows\n",
    "n = twitter_data.shape[0]\n",
    "\n",
    "# reset new index for data\n",
    "twitter_index = np.arange(0, twitter_data.shape[0])\n",
    "twitter_data = twitter_data.set_index(twitter_index)\n",
    "\n",
    "# add weekday\n",
    "twitter_data['weekday'] = twitter_data.time.map(lambda x: np.int(x.date().weekday()))\n",
    "#twitter_data.drop('time', axis=1, inplace=True)"
   ]
  },
  {
   "cell_type": "code",
   "execution_count": 44,
   "metadata": {
    "collapsed": false
   },
   "outputs": [],
   "source": [
    "# set X and Y for modeling and cross validation\n",
    "X = twitter_data[['followers','retweets']]\n",
    "Y = twitter_data.impressions\n",
    "\n",
    "# # sample for training\n",
    "n_train = np.round(twitter_data.shape[0]*.90)\n",
    "# randomize data\n",
    "ndex_train = np.random.randint(0, n, np.int(n_train))"
   ]
  },
  {
   "cell_type": "code",
   "execution_count": 47,
   "metadata": {
    "collapsed": false
   },
   "outputs": [
    {
     "data": {
      "text/html": [
       "<div>\n",
       "<style>\n",
       "    .dataframe thead tr:only-child th {\n",
       "        text-align: right;\n",
       "    }\n",
       "\n",
       "    .dataframe thead th {\n",
       "        text-align: left;\n",
       "    }\n",
       "\n",
       "    .dataframe tbody tr th {\n",
       "        vertical-align: top;\n",
       "    }\n",
       "</style>\n",
       "<table border=\"1\" class=\"dataframe\">\n",
       "  <thead>\n",
       "    <tr style=\"text-align: right;\">\n",
       "      <th></th>\n",
       "      <th>followers</th>\n",
       "      <th>retweets</th>\n",
       "    </tr>\n",
       "  </thead>\n",
       "  <tbody>\n",
       "    <tr>\n",
       "      <th>0</th>\n",
       "      <td>119261</td>\n",
       "      <td>3</td>\n",
       "    </tr>\n",
       "    <tr>\n",
       "      <th>1</th>\n",
       "      <td>119261</td>\n",
       "      <td>12</td>\n",
       "    </tr>\n",
       "    <tr>\n",
       "      <th>2</th>\n",
       "      <td>119261</td>\n",
       "      <td>35</td>\n",
       "    </tr>\n",
       "    <tr>\n",
       "      <th>3</th>\n",
       "      <td>119261</td>\n",
       "      <td>4</td>\n",
       "    </tr>\n",
       "    <tr>\n",
       "      <th>4</th>\n",
       "      <td>119261</td>\n",
       "      <td>7</td>\n",
       "    </tr>\n",
       "  </tbody>\n",
       "</table>\n",
       "</div>"
      ],
      "text/plain": [
       "   followers  retweets\n",
       "0     119261         3\n",
       "1     119261        12\n",
       "2     119261        35\n",
       "3     119261         4\n",
       "4     119261         7"
      ]
     },
     "execution_count": 47,
     "metadata": {},
     "output_type": "execute_result"
    }
   ],
   "source": [
    "X.head()"
   ]
  },
  {
   "cell_type": "code",
   "execution_count": 48,
   "metadata": {
    "collapsed": false
   },
   "outputs": [
    {
     "name": "stderr",
     "output_type": "stream",
     "text": [
      "/usr/local/lib/python2.7/site-packages/ipykernel/__main__.py:5: DeprecationWarning: \n",
      ".ix is deprecated. Please use\n",
      ".loc for label based indexing or\n",
      ".iloc for positional indexing\n",
      "\n",
      "See the documentation here:\n",
      "http://pandas.pydata.org/pandas-docs/stable/indexing.html#deprecate_ix\n"
     ]
    }
   ],
   "source": [
    "'''\n",
    "    use followers and retweets to try and predict impressions\n",
    "'''\n",
    "# # training data \n",
    "x_train\t = twitter_data.ix[ndex_train]\n",
    "y_train = twitter_data['impressions'][ndex_train]\n",
    "x_train = x_train[[\"followers\",\"retweets\"]]"
   ]
  },
  {
   "cell_type": "code",
   "execution_count": 50,
   "metadata": {
    "collapsed": false
   },
   "outputs": [],
   "source": [
    "# # test data\n",
    "x_test = twitter_data.loc[twitter_data.ix != ndex_train]\n",
    "#y_test = twitter_data['impressions'][twitter_data.ix != ndex_train]\n",
    "y_test = twitter_data.loc[twitter_data.ix != ndex_train].impressions\n",
    "x_test = x_test[[\"followers\",\"retweets\"]]"
   ]
  },
  {
   "cell_type": "code",
   "execution_count": 67,
   "metadata": {
    "collapsed": false
   },
   "outputs": [
    {
     "name": "stdout",
     "output_type": "stream",
     "text": [
      "******************************\n",
      "FITTING SIMPLE LINEAR REGRESSION MODEL\n",
      "******************************\n",
      "Coefficients: \n",
      "[  8.92861792e-03   2.57785575e+02]\n",
      "Mean Squared Error: 487079614.01\n",
      "Explained Variance score (R-squared): 0.8048\n"
     ]
    }
   ],
   "source": [
    "print \"*\"*30\n",
    "print \"FITTING SIMPLE LINEAR REGRESSION MODEL\"\n",
    "print \"*\"*30\n",
    "# Create linear regression object\n",
    "regr = linear_model.LinearRegression()\n",
    "regr.fit(x_train, y_train)\n",
    "regrPred = regr.predict(x_test)\n",
    "mse = mean_squared_error(regr.predict(x_test), y_test)\n",
    "\n",
    "# # The coefficients\n",
    "print 'Coefficients: \\n', regr.coef_\n",
    "print \"Mean Squared Error: %.2f\" % np.mean((regr.predict(x_test) - y_test) ** 2)\n",
    "# Explained variance score: 1 is perfect prediction (R^2 of prediction)\n",
    "print'Explained Variance score (R-squared): %.4f' % regr.score(x_test, y_test)\n",
    "rsquared_regr = r2_score(y_test, regrPred)"
   ]
  },
  {
   "cell_type": "code",
   "execution_count": 84,
   "metadata": {
    "collapsed": false
   },
   "outputs": [
    {
     "name": "stdout",
     "output_type": "stream",
     "text": [
      "******************************\n",
      "RIDGE REGRESSION\n",
      "******************************\n",
      "Coefficients: \n",
      "[  8.92861792e-03   2.57785575e+02]\n",
      "Residual sum of squares: 487079614.00\n",
      "Variance score: 0.8048\n"
     ]
    }
   ],
   "source": [
    "print \"*\"*30\n",
    "print \"RIDGE REGRESSION\"\n",
    "print \"*\"*30\n",
    "# RIDGE REGRESSION\n",
    "ridgeModel = Ridge(alpha = 0.1)\n",
    "ridgeModel.fit(x_train, y_train)\n",
    "ridgePred = ridgeModel.predict(x_test)\n",
    "rsquared_ridge = r2_score(y_test, ridgePred)\n",
    "# # The coefficients\n",
    "print 'Coefficients: \\n', ridgeModel.coef_\n",
    "print \"Residual sum of squares: %.2f\" % np.mean((ridgePred - y_test) ** 2)\n",
    "# Explained variance score: 1 is perfect prediction\n",
    "print 'Variance score: %.4f' % ridgeModel.score(x_test, y_test)\n"
   ]
  },
  {
   "cell_type": "code",
   "execution_count": 55,
   "metadata": {
    "collapsed": false
   },
   "outputs": [
    {
     "name": "stdout",
     "output_type": "stream",
     "text": [
      "******************************\n",
      "CROSS VALIDATION/K-FOLD FOR LASSO REGRESSION\n",
      "******************************\n"
     ]
    },
    {
     "data": {
      "image/png": "[encoded data removed]",
      "text/plain": [
       "<matplotlib.figure.Figure at 0x1127d2dd0>"
      ]
     },
     "metadata": {},
     "output_type": "display_data"
    }
   ],
   "source": [
    "print \"*\"*30\n",
    "print \"CROSS VALIDATION/K-FOLD FOR LASSO REGRESSION\"\n",
    "print \"*\"*30\n",
    "\n",
    "lassoModel = linear_model.Lasso()\n",
    "alphas = np.logspace(-4, -.5, 30)\n",
    "scores = list()\n",
    "scores_std = list()\n",
    "for alpha in alphas:\n",
    "    lassoModel.alpha = alpha\n",
    "    this_scores = cross_validation.cross_val_score(estimator = lassoModel, X=X, y=Y, n_jobs=1, cv=5)\n",
    "    scores.append(np.mean(this_scores))\n",
    "    scores_std.append(np.std(this_scores))\n",
    "\n",
    "pyplot.figure(figsize=(6, 6))\n",
    "pyplot.semilogx(alphas, scores)\n",
    "pyplot.ylabel('CV score')\n",
    "pyplot.xlabel('alpha')\n",
    "pyplot.axhline(np.max(scores), linestyle='--', color='red')\n",
    "pyplot.show()\n"
   ]
  },
  {
   "cell_type": "code",
   "execution_count": 56,
   "metadata": {
    "collapsed": false
   },
   "outputs": [
    {
     "name": "stderr",
     "output_type": "stream",
     "text": [
      "/usr/local/lib/python2.7/site-packages/ipykernel/__main__.py:7: DeprecationWarning: \n",
      ".ix is deprecated. Please use\n",
      ".loc for label based indexing or\n",
      ".iloc for positional indexing\n",
      "\n",
      "See the documentation here:\n",
      "http://pandas.pydata.org/pandas-docs/stable/indexing.html#deprecate_ix\n"
     ]
    },
    {
     "name": "stdout",
     "output_type": "stream",
     "text": [
      "[fold 0] alpha: 0.000100000, score: 0.74724\n",
      "[fold 1] alpha: 0.000132035, score: 0.75839\n",
      "[fold 2] alpha: 0.000174333, score: 0.76074\n",
      "[fold 3] alpha: 0.000230181, score: 0.74466\n",
      "[fold 4] alpha: 0.000303920, score: 0.76616\n",
      "[fold 5] alpha: 0.000401281, score: 0.76317\n",
      "[fold 6] alpha: 0.000529832, score: 0.75913\n",
      "[fold 7] alpha: 0.000699564, score: 0.74823\n",
      "[fold 8] alpha: 0.000923671, score: 0.76466\n",
      "[fold 9] alpha: 0.001219570, score: 0.77360\n",
      "[fold 10] alpha: 0.001610262, score: 0.76597\n",
      "[fold 11] alpha: 0.002126112, score: 0.76835\n",
      "[fold 12] alpha: 0.002807216, score: 0.75443\n",
      "[fold 13] alpha: 0.003706513, score: 0.77491\n",
      "[fold 14] alpha: 0.004893901, score: 0.76271\n",
      "[fold 15] alpha: 0.006461671, score: 0.76570\n",
      "[fold 16] alpha: 0.008531679, score: 0.76340\n",
      "[fold 17] alpha: 0.011264817, score: 0.76113\n",
      "[fold 18] alpha: 0.014873521, score: 0.76592\n",
      "[fold 19] alpha: 0.019638280, score: 0.74932\n",
      "[fold 20] alpha: 0.025929438, score: 0.75301\n",
      "[fold 21] alpha: 0.034235980, score: 0.75856\n",
      "[fold 22] alpha: 0.045203537, score: 0.77203\n",
      "[fold 23] alpha: 0.059684570, score: 0.76962\n",
      "[fold 24] alpha: 0.078804628, score: 0.77829\n",
      "[fold 25] alpha: 0.104049831, score: 0.75754\n",
      "[fold 26] alpha: 0.137382380, score: 0.76798\n",
      "[fold 27] alpha: 0.181393069, score: 0.76646\n",
      "[fold 28] alpha: 0.239502662, score: 0.77572\n",
      "[fold 29] alpha: 0.316227766, score: 0.76610\n"
     ]
    },
    {
     "data": {
      "image/png": "[encoded data removed]",
      "text/plain": [
       "<matplotlib.figure.Figure at 0x117770f50>"
      ]
     },
     "metadata": {},
     "output_type": "display_data"
    },
    {
     "name": "stdout",
     "output_type": "stream",
     "text": [
      "Best alpha's\n",
      "       alpha  fold     score\n",
      "24  0.078805    24  0.778290\n",
      "28  0.239503    28  0.775724\n",
      "13  0.003707    13  0.774912\n",
      "9   0.001220     9  0.773601\n",
      "22  0.045204    22  0.772028\n",
      "23  0.059685    23  0.769621\n",
      "11  0.002126    11  0.768349\n",
      "26  0.137382    26  0.767980\n",
      "27  0.181393    27  0.766462\n",
      "4   0.000304     4  0.766156\n"
     ]
    }
   ],
   "source": [
    "lasso_cv = linear_model.LassoCV(alphas=alphas, cv=5, selection='random')\n",
    "folds = 30\n",
    "k_fold = cross_validation.KFold(n=len(X), n_folds=folds, shuffle=True)\n",
    "cv_scores = list()\n",
    "cv_alphas = list()\n",
    "for k, (train, test) in enumerate(k_fold):\n",
    "    lasso_cv.fit(X.ix[train], Y.ix[train])\n",
    "    lasso_cv.alpha_ = alphas[k]\n",
    "    cv_alphas.append(lasso_cv.alpha_)\n",
    "    cv_scores.append(lasso_cv.score(X.ix[test], Y.ix[test]))\n",
    "    print(\n",
    "    \"[fold {0}] alpha: {1:.9f}, score: {2:.5f}\".format(k, lasso_cv.alpha_, lasso_cv.score(X.ix[test], Y.ix[test])))\n",
    "# put results in dataframe\n",
    "lasso_cv_df = pd.DataFrame({'fold': range(folds), 'alpha': cv_alphas, 'score': cv_scores})\n",
    "# plot lasso cv results\n",
    "pyplot.figure()\n",
    "pyplot.semilogx(x = cv_alphas, y = cv_scores, 'r--')\n",
    "pyplot.ylabel('CV score')\n",
    "pyplot.xlabel('alpha')\n",
    "pyplot.title('Cross Validation Lasso Regression')\n",
    "pyplot.show()\n",
    "\n",
    "# best alpha\n",
    "print \"Best alpha's\\n\", lasso_cv_df.sort_values('score', ascending=False).head(10)\n",
    "best_alpha = lasso_cv_df.sort_values('score', ascending=False).alpha.iloc[0]"
   ]
  },
  {
   "cell_type": "code",
   "execution_count": 85,
   "metadata": {
    "collapsed": false
   },
   "outputs": [
    {
     "name": "stdout",
     "output_type": "stream",
     "text": [
      "Coefficients: [  8.92861816e-03   2.57785521e+02]\n",
      "Residual sum of squares: 487079607.55\n",
      "R-Squared score on training: 0.764\n",
      "R-Squared score on test: 0.805\n"
     ]
    }
   ],
   "source": [
    "# fit model using best alpha\n",
    "lassoModel = linear_model.Lasso(alpha=best_alpha)\n",
    "lassoModel.fit(x_train, y_train)\n",
    "lassoPred = lassoModel.predict(x_test)\n",
    "# # The coefficients\n",
    "print 'Coefficients:', lassoModel.coef_\n",
    "print(\"Residual sum of squares: %.2f\" % np.mean((lassoPred - y_test) ** 2))\n",
    "# Explained variance score: 1 is perfect prediction\n",
    "print('R-Squared score on training: %.3f' % lassoModel.score(x_train, y_train))\n",
    "print('R-Squared score on test: %.3f' % lassoModel.score(x_test, y_test))\n",
    "r2_score(lassoPred, y_test)\n",
    "rsquared_lasso=r2_score(lassoPred, y_test)\n",
    "\n"
   ]
  },
  {
   "cell_type": "code",
   "execution_count": null,
   "metadata": {
    "collapsed": true
   },
   "outputs": [],
   "source": []
  },
  {
   "cell_type": "code",
   "execution_count": 9,
   "metadata": {
    "collapsed": false
   },
   "outputs": [
    {
     "name": "stdout",
     "output_type": "stream",
     "text": [
      "MODEL 1 RESULTS:\n",
      "       page_id          tw_name  frequency       err_sum   err_mean\n",
      "0       759251              CNN        368   4224.313661  11.479113\n",
      "1     19426551              nfl        128   1093.625240   8.543947\n",
      "2      2367911              MTV       5687  16611.497946   2.920960\n",
      "3     30309979       106andpark        321    593.720500   1.849597\n",
      "4     16560657              bet       8061   8792.894752   1.090795\n",
      "5     14934818          InStyle      15076  13823.453381   0.916918\n",
      "6     32448740        brueggers         54     48.385489   0.896028\n",
      "7    634784951      dasaniwater          1      0.812673   0.812673\n",
      "8     27677483       essencemag       5825   4621.878001   0.793455\n",
      "9     18342955       abc11_wtvd       4109   3127.868601   0.761224\n",
      "10  1426645165           bustle       3860   2510.785230   0.650462\n",
      "11    25453312  hallmarkchannel       2534   1608.644252   0.634824\n",
      "12   223525053     ringlingbros         28     15.788833   0.563887\n",
      "13     5988062     theeconomist      11955   6489.788155   0.542851\n",
      "14    21308602   cartoonnetwork        365    183.116713   0.501690\n",
      "15   119606058   aquiyahorashow         98     46.958386   0.479167\n",
      "16   226299107          betnews        105     46.410052   0.442000\n",
      "17    73200694            Coach        900    359.354220   0.399282\n",
      "18    16374678             ABC7      12728   5031.964773   0.395346\n",
      "19    14293310             TIME      31180  12234.008790   0.392367\n",
      "20     9695312        billboard      13513   5114.437747   0.378483\n",
      "21   436171805        fusionpop        262     84.615017   0.322958\n",
      "22    14946736          DIRECTV       1375    436.472013   0.317434\n",
      "23    25589776           people      26581   8319.513085   0.312987\n",
      "24   192981351     LandRoverUSA        184     50.923294   0.276757\n",
      "25    25053299  fortunemagazine      22664   5444.204312   0.240214\n",
      "\n",
      "BIGGEST ERRORS:\n",
      "       page_id          tw_name\n",
      "0       759251              CNN\n",
      "1     19426551              nfl\n",
      "2      2367911              MTV\n",
      "3     30309979       106andpark\n",
      "4     16560657              bet\n",
      "5     14934818          InStyle\n",
      "6     32448740        brueggers\n",
      "7    634784951      dasaniwater\n",
      "8     27677483       essencemag\n",
      "9     18342955       abc11_wtvd\n",
      "10  1426645165           bustle\n",
      "11    25453312  hallmarkchannel\n"
     ]
    }
   ],
   "source": [
    "err_threshold = 0.6\n",
    "model_err_stats = linModel1.model_results.groupby(['page_id','tw_name'])['perc_diff'].agg(['count','sum','mean']).sort_values('mean',ascending = False, axis =0).reset_index()\n",
    "model_err_stats.rename(columns = {'count':'frequency', 'sum':'err_sum' ,'mean':'err_mean'}, inplace = True)\n",
    "tw_names_drop = model_err_stats[model_err_stats.err_mean > err_threshold][['page_id','tw_name']].drop_duplicates()\n",
    "\n",
    "print \"MODEL 1 RESULTS:\"\n",
    "print model_err_stats\n",
    "print\n",
    "print \"BIGGEST ERRORS:\"\n",
    "print tw_names_drop\n"
   ]
  }
 ],
 "metadata": {
  "kernelspec": {
   "display_name": "Python 2",
   "language": "python",
   "name": "python2"
  },
  "language_info": {
   "codemirror_mode": {
    "name": "ipython",
    "version": 2
   },
   "file_extension": ".py",
   "mimetype": "text/x-python",
   "name": "python",
   "nbconvert_exporter": "python",
   "pygments_lexer": "ipython2",
   "version": "2.7.13"
  }
 },
 "nbformat": 4,
 "nbformat_minor": 2
}
